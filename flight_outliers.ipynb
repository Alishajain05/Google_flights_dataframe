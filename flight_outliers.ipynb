{
 "cells": [
  {
   "cell_type": "code",
   "execution_count": 1,
   "metadata": {
    "collapsed": false
   },
   "outputs": [],
   "source": [
    "import pandas as pd\n",
    "import numpy as np\n",
    "from selenium import webdriver\n",
    "from selenium.webdriver.common.desired_capabilities import DesiredCapabilities\n",
    "from bs4 import BeautifulSoup\n",
    "import matplotlib.pyplot as plt\n",
    "%matplotlib inline\n",
    "import time\n",
    "import seaborn as sns\n",
    "import math\n",
    "from scipy.spatial.distance import euclidean, chebyshev, cityblock\n",
    "import statistics"
   ]
  },
  {
   "cell_type": "code",
   "execution_count": 2,
   "metadata": {
    "collapsed": true
   },
   "outputs": [],
   "source": [
    "from sklearn.preprocessing import MinMaxScaler, RobustScaler, StandardScaler, MaxAbsScaler"
   ]
  },
  {
   "cell_type": "code",
   "execution_count": 3,
   "metadata": {
    "collapsed": true
   },
   "outputs": [],
   "source": [
    "from sklearn.cluster import DBSCAN\n",
    "from sklearn.preprocessing import StandardScaler"
   ]
  },
  {
   "cell_type": "code",
   "execution_count": 4,
   "metadata": {
    "collapsed": false
   },
   "outputs": [],
   "source": [
    "import unidecode\n",
    "from unidecode import unidecode\n",
    "import requests"
   ]
  },
  {
   "cell_type": "code",
   "execution_count": 5,
   "metadata": {
    "collapsed": true
   },
   "outputs": [],
   "source": [
    "import pandas as pd\n",
    "import datetime\n",
    "%matplotlib inline\n",
    "from dateutil.parser import parse"
   ]
  },
  {
   "cell_type": "code",
   "execution_count": 6,
   "metadata": {
    "collapsed": true
   },
   "outputs": [],
   "source": [
    "# from selenium import webdriver\n",
    "from selenium.webdriver.common.action_chains import ActionChains\n",
    "from selenium.webdriver.common.keys import Keys"
   ]
  },
  {
   "cell_type": "code",
   "execution_count": 7,
   "metadata": {
    "collapsed": false
   },
   "outputs": [],
   "source": [
    "driver = webdriver.Chrome()"
   ]
  },
  {
   "cell_type": "code",
   "execution_count": 8,
   "metadata": {
    "collapsed": true
   },
   "outputs": [],
   "source": [
    "driver.get('https://www.google.com/flights/explore/')"
   ]
  },
  {
   "cell_type": "code",
   "execution_count": 9,
   "metadata": {
    "collapsed": false
   },
   "outputs": [],
   "source": [
    "def scrape_data(start_date, from_place, to_place, city_name):\n",
    "    to_input = driver.find_element_by_xpath('//*[@id=\"root\"]/div[3]/div[3]/div/div[4]/div/div')\n",
    "    to_input.click()\n",
    "    to_action = ActionChains(driver)\n",
    "    to_action.send_keys(to_place)\n",
    "    to_action.send_keys(Keys.ENTER)\n",
    "    to_action.perform()\n",
    "    \n",
    "    from_input = driver.find_element_by_xpath('//*[@id=\"root\"]/div[3]/div[3]/div/div[2]/div/div')\n",
    "    from_input.click()\n",
    "    from_action = ActionChains(driver)\n",
    "    from_action.send_keys(from_place)\n",
    "    from_action.send_keys(Keys.ENTER)\n",
    "    from_action.perform() \n",
    "    \n",
    "    time.sleep(5)\n",
    "    current_url = driver.current_url\n",
    "    split_url = current_url.split('2017')\n",
    "    new_url = split_url[0] + start_date\n",
    "    driver.get(new_url)    \n",
    "    \n",
    "    time.sleep(5)\n",
    "    results = driver.find_elements_by_class_name('LJTSM3-v-c')\n",
    "    \n",
    "\n",
    "    result_names = []\n",
    "    for i in range(len(results)):\n",
    "        result_names.append(results[i].text)\n",
    "\n",
    "    cities = []\n",
    "    for city in result_names:\n",
    "        name = city.split(',')\n",
    "        cities.append(unidecode(name[0]))\n",
    "    \n",
    "    lower_case = [x.lower() for x in cities]\n",
    "    if city_name.lower() in lower_case:\n",
    "        city_index = lower_case.index(city_name.lower())\n",
    "    \n",
    "    time.sleep(2)\n",
    "    \n",
    "    box_class = driver.find_elements_by_class_name(\"LJTSM3-v-m\")\n",
    "    test = box_class[city_index]\n",
    "    bars = test.find_elements_by_class_name('LJTSM3-w-x')\n",
    "\n",
    "    time.sleep(1)\n",
    "\n",
    "    data = []\n",
    "\n",
    "    for bar in bars:\n",
    "        ActionChains(driver).move_to_element(bar).perform()\n",
    "        time.sleep(0.00001)\n",
    "        data.append((test.find_element_by_class_name('LJTSM3-w-k').find_elements_by_tag_name('div')[0].text,\n",
    "           test.find_element_by_class_name('LJTSM3-w-k').find_elements_by_tag_name('div')[1].text))\n",
    "\n",
    "    time.sleep(2)\n",
    "\n",
    "    d = data[0]\n",
    "    clean_data = [(float(d[0].replace('$', '').replace(',', '')), (parse(d[1].split('-')[0].strip()) - datetime.datetime(2017,4,4,0,0)).days)\n",
    "                      for d in data]\n",
    "\n",
    "    time.sleep(3)\n",
    "\n",
    "    df = pd.DataFrame(clean_data, columns=['Price','Start_Date'])\n",
    "    return df\n"
   ]
  },
  {
   "cell_type": "code",
   "execution_count": 10,
   "metadata": {
    "collapsed": false
   },
   "outputs": [],
   "source": [
    "df = scrape_data('2017-04-16','London','India','New Delhi')"
   ]
  },
  {
   "cell_type": "code",
   "execution_count": null,
   "metadata": {
    "collapsed": true
   },
   "outputs": [],
   "source": [
    "# df"
   ]
  },
  {
   "cell_type": "code",
   "execution_count": null,
   "metadata": {
    "collapsed": false
   },
   "outputs": [],
   "source": [
    "# df[\"Price\"][9]= 420\n",
    "# df[]"
   ]
  },
  {
   "cell_type": "code",
   "execution_count": null,
   "metadata": {
    "collapsed": true
   },
   "outputs": [],
   "source": [
    "df"
   ]
  },
  {
   "cell_type": "code",
   "execution_count": null,
   "metadata": {
    "collapsed": true
   },
   "outputs": [],
   "source": [
    "#Task2"
   ]
  },
  {
   "cell_type": "code",
   "execution_count": null,
   "metadata": {
    "collapsed": true
   },
   "outputs": [],
   "source": [
    "def scrape_data_90(start_date, from_place, to_place, city_name):\n",
    "    \n",
    "    to_input = driver.find_element_by_xpath('//*[@id=\"root\"]/div[3]/div[3]/div/div[4]/div/div')\n",
    "    to_input.click()\n",
    "    to_action = ActionChains(driver)\n",
    "    to_action.send_keys(to_place)\n",
    "    to_action.send_keys(Keys.ENTER)\n",
    "    to_action.perform()\n",
    "    \n",
    "    from_input = driver.find_element_by_xpath('//*[@id=\"root\"]/div[3]/div[3]/div/div[2]/div/div')\n",
    "    from_input.click()\n",
    "    from_action = ActionChains(driver)\n",
    "    from_action.send_keys(from_place)\n",
    "    from_action.send_keys(Keys.ENTER)\n",
    "    from_action.perform() \n",
    "    \n",
    "    time.sleep(5)\n",
    "    current_url = driver.current_url\n",
    "    split_url = current_url.split('2017')\n",
    "    new_url = split_url[0] + start_date\n",
    "    driver.get(new_url)    \n",
    "    \n",
    "    time.sleep(5)\n",
    "    results = driver.find_elements_by_class_name('LJTSM3-v-c')\n",
    "    \n",
    "\n",
    "    result_names = []\n",
    "    for i in range(len(results)):\n",
    "        result_names.append(results[i].text)\n",
    "\n",
    "    cities = []\n",
    "    for city in result_names:\n",
    "        name = city.split(',')\n",
    "        cities.append(unidecode(name[0]))\n",
    "    \n",
    "    lower_case = [x.lower() for x in cities]\n",
    "    if city_name.lower() in lower_case:\n",
    "        city_index = lower_case.index(city_name.lower())\n",
    "    \n",
    "    time.sleep(2)\n",
    "    \n",
    "    box_class = driver.find_elements_by_class_name(\"LJTSM3-v-m\")\n",
    "    test = box_class[city_index]\n",
    "    bars = test.find_elements_by_class_name('LJTSM3-w-x')\n",
    "\n",
    "    time.sleep(1)\n",
    "    data_90 = []\n",
    "\n",
    "    for bar in bars:\n",
    "        ActionChains(driver).move_to_element(bar).perform()\n",
    "        time.sleep(0.00001)\n",
    "        data_90.append((test.find_element_by_class_name('LJTSM3-w-k').find_elements_by_tag_name('div')[0].text,\n",
    "           test.find_element_by_class_name('LJTSM3-w-k').find_elements_by_tag_name('div')[1].text))\n",
    "    \n",
    "    move_bars_input = driver.find_element_by_xpath('//*[@id=\"root\"]/div[3]/div[4]/div/div[2]/div[1]/div/div[2]/div[2]/div/div[2]/div[5]')\n",
    "    move_bars_input.click()\n",
    "    move_bars_input = ActionChains(driver)\n",
    "    move_bars_input.perform()\n",
    "    \n",
    "    time.sleep(5)\n",
    "    results = driver.find_elements_by_class_name('LJTSM3-v-c')\n",
    "    result_names = []\n",
    "    for i in range(len(results)):\n",
    "        result_names.append(results[i].text)\n",
    "\n",
    "    cities = []\n",
    "    for city in result_names:\n",
    "        name = city.split(',')\n",
    "        cities.append(unidecode(name[0]))\n",
    "        \n",
    "    lower_case = [x.lower() for x in cities]\n",
    "    if city_name.lower() in lower_case:\n",
    "        city_index = lower_case.index(city_name.lower())\n",
    "        \n",
    "    time.sleep(2)\n",
    "        \n",
    "    box_class = driver.find_elements_by_class_name(\"LJTSM3-v-m\")\n",
    "    test = box_class[city_index]\n",
    "    bars = test.find_elements_by_class_name('LJTSM3-w-x')\n",
    "    \n",
    "    next_data= []\n",
    "    for bar in bars:\n",
    "        ActionChains(driver).move_to_element(bar).perform()\n",
    "        time.sleep(0.00001)\n",
    "        next_data.append((test.find_element_by_class_name('LJTSM3-w-k').find_elements_by_tag_name('div')[0].text,\n",
    "           test.find_element_by_class_name('LJTSM3-w-k').find_elements_by_tag_name('div')[1].text))\n",
    "    \n",
    "    time.sleep(3)\n",
    "    for element in next_data:\n",
    "        if element not in data_90:\n",
    "            data_90.append(element)\n",
    "            \n",
    "    d = data_90[0]\n",
    "    clean_data = [(float(d[0].replace('$', '').replace(',', '')), (parse(d[1].split('-')[0].strip()) - datetime.datetime(2017,4,4,0,0)).days)\n",
    "                      for d in data_90]\n",
    "    \n",
    "    df_90 = pd.DataFrame(clean_data, columns=['Price','Start_Date'])\n",
    "    return df_90   \n",
    "    "
   ]
  },
  {
   "cell_type": "code",
   "execution_count": 11,
   "metadata": {
    "collapsed": false
   },
   "outputs": [
    {
     "ename": "NameError",
     "evalue": "name 'scrape_data_90' is not defined",
     "output_type": "error",
     "traceback": [
      "\u001b[0;31m---------------------------------------------------------------------------\u001b[0m",
      "\u001b[0;31mNameError\u001b[0m                                 Traceback (most recent call last)",
      "\u001b[0;32m<ipython-input-11-e33eef005da0>\u001b[0m in \u001b[0;36m<module>\u001b[0;34m()\u001b[0m\n\u001b[0;32m----> 1\u001b[0;31m \u001b[0mdf\u001b[0m \u001b[1;33m=\u001b[0m \u001b[0mscrape_data_90\u001b[0m\u001b[1;33m(\u001b[0m\u001b[1;34m'2017-04-20'\u001b[0m\u001b[1;33m,\u001b[0m\u001b[1;34m'London'\u001b[0m\u001b[1;33m,\u001b[0m\u001b[1;34m'Europe'\u001b[0m\u001b[1;33m,\u001b[0m\u001b[1;34m'Dublin'\u001b[0m\u001b[1;33m)\u001b[0m\u001b[1;33m\u001b[0m\u001b[0m\n\u001b[0m",
      "\u001b[0;31mNameError\u001b[0m: name 'scrape_data_90' is not defined"
     ]
    }
   ],
   "source": [
    "# df = scrape_data_90('2017-04-20','London','Europe','Dublin')"
   ]
  },
  {
   "cell_type": "code",
   "execution_count": null,
   "metadata": {
    "collapsed": false
   },
   "outputs": [],
   "source": [
    "# df = scrape_data_90('2017-04-16','London','California','San Jose')"
   ]
  },
  {
   "cell_type": "code",
   "execution_count": 12,
   "metadata": {
    "collapsed": true
   },
   "outputs": [
    {
     "data": {
      "text/html": [
       "<div>\n",
       "<table border=\"1\" class=\"dataframe\">\n",
       "  <thead>\n",
       "    <tr style=\"text-align: right;\">\n",
       "      <th></th>\n",
       "      <th>Price</th>\n",
       "      <th>Start_Date</th>\n",
       "    </tr>\n",
       "  </thead>\n",
       "  <tbody>\n",
       "    <tr>\n",
       "      <th>0</th>\n",
       "      <td>601.0</td>\n",
       "      <td>12</td>\n",
       "    </tr>\n",
       "    <tr>\n",
       "      <th>1</th>\n",
       "      <td>576.0</td>\n",
       "      <td>13</td>\n",
       "    </tr>\n",
       "    <tr>\n",
       "      <th>2</th>\n",
       "      <td>967.0</td>\n",
       "      <td>14</td>\n",
       "    </tr>\n",
       "    <tr>\n",
       "      <th>3</th>\n",
       "      <td>752.0</td>\n",
       "      <td>15</td>\n",
       "    </tr>\n",
       "    <tr>\n",
       "      <th>4</th>\n",
       "      <td>691.0</td>\n",
       "      <td>16</td>\n",
       "    </tr>\n",
       "    <tr>\n",
       "      <th>5</th>\n",
       "      <td>716.0</td>\n",
       "      <td>17</td>\n",
       "    </tr>\n",
       "    <tr>\n",
       "      <th>6</th>\n",
       "      <td>716.0</td>\n",
       "      <td>18</td>\n",
       "    </tr>\n",
       "    <tr>\n",
       "      <th>7</th>\n",
       "      <td>670.0</td>\n",
       "      <td>19</td>\n",
       "    </tr>\n",
       "    <tr>\n",
       "      <th>8</th>\n",
       "      <td>670.0</td>\n",
       "      <td>20</td>\n",
       "    </tr>\n",
       "    <tr>\n",
       "      <th>9</th>\n",
       "      <td>691.0</td>\n",
       "      <td>21</td>\n",
       "    </tr>\n",
       "    <tr>\n",
       "      <th>10</th>\n",
       "      <td>640.0</td>\n",
       "      <td>22</td>\n",
       "    </tr>\n",
       "    <tr>\n",
       "      <th>11</th>\n",
       "      <td>553.0</td>\n",
       "      <td>23</td>\n",
       "    </tr>\n",
       "    <tr>\n",
       "      <th>12</th>\n",
       "      <td>550.0</td>\n",
       "      <td>24</td>\n",
       "    </tr>\n",
       "    <tr>\n",
       "      <th>13</th>\n",
       "      <td>541.0</td>\n",
       "      <td>25</td>\n",
       "    </tr>\n",
       "    <tr>\n",
       "      <th>14</th>\n",
       "      <td>516.0</td>\n",
       "      <td>26</td>\n",
       "    </tr>\n",
       "    <tr>\n",
       "      <th>15</th>\n",
       "      <td>516.0</td>\n",
       "      <td>27</td>\n",
       "    </tr>\n",
       "    <tr>\n",
       "      <th>16</th>\n",
       "      <td>516.0</td>\n",
       "      <td>28</td>\n",
       "    </tr>\n",
       "    <tr>\n",
       "      <th>17</th>\n",
       "      <td>514.0</td>\n",
       "      <td>29</td>\n",
       "    </tr>\n",
       "    <tr>\n",
       "      <th>18</th>\n",
       "      <td>514.0</td>\n",
       "      <td>30</td>\n",
       "    </tr>\n",
       "    <tr>\n",
       "      <th>19</th>\n",
       "      <td>522.0</td>\n",
       "      <td>31</td>\n",
       "    </tr>\n",
       "    <tr>\n",
       "      <th>20</th>\n",
       "      <td>522.0</td>\n",
       "      <td>32</td>\n",
       "    </tr>\n",
       "    <tr>\n",
       "      <th>21</th>\n",
       "      <td>516.0</td>\n",
       "      <td>33</td>\n",
       "    </tr>\n",
       "    <tr>\n",
       "      <th>22</th>\n",
       "      <td>516.0</td>\n",
       "      <td>34</td>\n",
       "    </tr>\n",
       "    <tr>\n",
       "      <th>23</th>\n",
       "      <td>514.0</td>\n",
       "      <td>35</td>\n",
       "    </tr>\n",
       "    <tr>\n",
       "      <th>24</th>\n",
       "      <td>514.0</td>\n",
       "      <td>36</td>\n",
       "    </tr>\n",
       "    <tr>\n",
       "      <th>25</th>\n",
       "      <td>514.0</td>\n",
       "      <td>37</td>\n",
       "    </tr>\n",
       "    <tr>\n",
       "      <th>26</th>\n",
       "      <td>522.0</td>\n",
       "      <td>38</td>\n",
       "    </tr>\n",
       "    <tr>\n",
       "      <th>27</th>\n",
       "      <td>522.0</td>\n",
       "      <td>39</td>\n",
       "    </tr>\n",
       "    <tr>\n",
       "      <th>28</th>\n",
       "      <td>514.0</td>\n",
       "      <td>40</td>\n",
       "    </tr>\n",
       "    <tr>\n",
       "      <th>29</th>\n",
       "      <td>514.0</td>\n",
       "      <td>41</td>\n",
       "    </tr>\n",
       "    <tr>\n",
       "      <th>30</th>\n",
       "      <td>514.0</td>\n",
       "      <td>42</td>\n",
       "    </tr>\n",
       "    <tr>\n",
       "      <th>31</th>\n",
       "      <td>514.0</td>\n",
       "      <td>43</td>\n",
       "    </tr>\n",
       "    <tr>\n",
       "      <th>32</th>\n",
       "      <td>514.0</td>\n",
       "      <td>44</td>\n",
       "    </tr>\n",
       "    <tr>\n",
       "      <th>33</th>\n",
       "      <td>499.0</td>\n",
       "      <td>45</td>\n",
       "    </tr>\n",
       "    <tr>\n",
       "      <th>34</th>\n",
       "      <td>499.0</td>\n",
       "      <td>46</td>\n",
       "    </tr>\n",
       "    <tr>\n",
       "      <th>35</th>\n",
       "      <td>499.0</td>\n",
       "      <td>47</td>\n",
       "    </tr>\n",
       "    <tr>\n",
       "      <th>36</th>\n",
       "      <td>499.0</td>\n",
       "      <td>48</td>\n",
       "    </tr>\n",
       "    <tr>\n",
       "      <th>37</th>\n",
       "      <td>499.0</td>\n",
       "      <td>49</td>\n",
       "    </tr>\n",
       "    <tr>\n",
       "      <th>38</th>\n",
       "      <td>499.0</td>\n",
       "      <td>50</td>\n",
       "    </tr>\n",
       "    <tr>\n",
       "      <th>39</th>\n",
       "      <td>499.0</td>\n",
       "      <td>51</td>\n",
       "    </tr>\n",
       "    <tr>\n",
       "      <th>40</th>\n",
       "      <td>531.0</td>\n",
       "      <td>52</td>\n",
       "    </tr>\n",
       "    <tr>\n",
       "      <th>41</th>\n",
       "      <td>531.0</td>\n",
       "      <td>53</td>\n",
       "    </tr>\n",
       "    <tr>\n",
       "      <th>42</th>\n",
       "      <td>516.0</td>\n",
       "      <td>54</td>\n",
       "    </tr>\n",
       "    <tr>\n",
       "      <th>43</th>\n",
       "      <td>516.0</td>\n",
       "      <td>55</td>\n",
       "    </tr>\n",
       "    <tr>\n",
       "      <th>44</th>\n",
       "      <td>522.0</td>\n",
       "      <td>56</td>\n",
       "    </tr>\n",
       "    <tr>\n",
       "      <th>45</th>\n",
       "      <td>525.0</td>\n",
       "      <td>57</td>\n",
       "    </tr>\n",
       "    <tr>\n",
       "      <th>46</th>\n",
       "      <td>474.0</td>\n",
       "      <td>58</td>\n",
       "    </tr>\n",
       "    <tr>\n",
       "      <th>47</th>\n",
       "      <td>499.0</td>\n",
       "      <td>59</td>\n",
       "    </tr>\n",
       "    <tr>\n",
       "      <th>48</th>\n",
       "      <td>499.0</td>\n",
       "      <td>60</td>\n",
       "    </tr>\n",
       "    <tr>\n",
       "      <th>49</th>\n",
       "      <td>499.0</td>\n",
       "      <td>61</td>\n",
       "    </tr>\n",
       "    <tr>\n",
       "      <th>50</th>\n",
       "      <td>474.0</td>\n",
       "      <td>62</td>\n",
       "    </tr>\n",
       "    <tr>\n",
       "      <th>51</th>\n",
       "      <td>499.0</td>\n",
       "      <td>63</td>\n",
       "    </tr>\n",
       "    <tr>\n",
       "      <th>52</th>\n",
       "      <td>499.0</td>\n",
       "      <td>64</td>\n",
       "    </tr>\n",
       "    <tr>\n",
       "      <th>53</th>\n",
       "      <td>474.0</td>\n",
       "      <td>65</td>\n",
       "    </tr>\n",
       "    <tr>\n",
       "      <th>54</th>\n",
       "      <td>499.0</td>\n",
       "      <td>66</td>\n",
       "    </tr>\n",
       "    <tr>\n",
       "      <th>55</th>\n",
       "      <td>499.0</td>\n",
       "      <td>67</td>\n",
       "    </tr>\n",
       "    <tr>\n",
       "      <th>56</th>\n",
       "      <td>499.0</td>\n",
       "      <td>68</td>\n",
       "    </tr>\n",
       "    <tr>\n",
       "      <th>57</th>\n",
       "      <td>474.0</td>\n",
       "      <td>69</td>\n",
       "    </tr>\n",
       "    <tr>\n",
       "      <th>58</th>\n",
       "      <td>499.0</td>\n",
       "      <td>70</td>\n",
       "    </tr>\n",
       "    <tr>\n",
       "      <th>59</th>\n",
       "      <td>474.0</td>\n",
       "      <td>71</td>\n",
       "    </tr>\n",
       "  </tbody>\n",
       "</table>\n",
       "</div>"
      ],
      "text/plain": [
       "    Price  Start_Date\n",
       "0   601.0          12\n",
       "1   576.0          13\n",
       "2   967.0          14\n",
       "3   752.0          15\n",
       "4   691.0          16\n",
       "5   716.0          17\n",
       "6   716.0          18\n",
       "7   670.0          19\n",
       "8   670.0          20\n",
       "9   691.0          21\n",
       "10  640.0          22\n",
       "11  553.0          23\n",
       "12  550.0          24\n",
       "13  541.0          25\n",
       "14  516.0          26\n",
       "15  516.0          27\n",
       "16  516.0          28\n",
       "17  514.0          29\n",
       "18  514.0          30\n",
       "19  522.0          31\n",
       "20  522.0          32\n",
       "21  516.0          33\n",
       "22  516.0          34\n",
       "23  514.0          35\n",
       "24  514.0          36\n",
       "25  514.0          37\n",
       "26  522.0          38\n",
       "27  522.0          39\n",
       "28  514.0          40\n",
       "29  514.0          41\n",
       "30  514.0          42\n",
       "31  514.0          43\n",
       "32  514.0          44\n",
       "33  499.0          45\n",
       "34  499.0          46\n",
       "35  499.0          47\n",
       "36  499.0          48\n",
       "37  499.0          49\n",
       "38  499.0          50\n",
       "39  499.0          51\n",
       "40  531.0          52\n",
       "41  531.0          53\n",
       "42  516.0          54\n",
       "43  516.0          55\n",
       "44  522.0          56\n",
       "45  525.0          57\n",
       "46  474.0          58\n",
       "47  499.0          59\n",
       "48  499.0          60\n",
       "49  499.0          61\n",
       "50  474.0          62\n",
       "51  499.0          63\n",
       "52  499.0          64\n",
       "53  474.0          65\n",
       "54  499.0          66\n",
       "55  499.0          67\n",
       "56  499.0          68\n",
       "57  474.0          69\n",
       "58  499.0          70\n",
       "59  474.0          71"
      ]
     },
     "execution_count": 12,
     "metadata": {},
     "output_type": "execute_result"
    }
   ],
   "source": [
    "df"
   ]
  },
  {
   "cell_type": "code",
   "execution_count": null,
   "metadata": {
    "collapsed": true
   },
   "outputs": [],
   "source": [
    "#Task 3 - IQR"
   ]
  },
  {
   "cell_type": "code",
   "execution_count": null,
   "metadata": {
    "collapsed": true
   },
   "outputs": [],
   "source": [
    "def task_3_IQR_(flight_data):\n",
    "    px = [x for x in df['Price']]\n",
    "    ff = pd.DataFrame(px, columns=['Price_of_flight']).reset_index()\n",
    "#     fl_data = clean_data(flight_data)\n",
    "    ds = ff.sort_values(by='Price_of_flight')\n",
    "\n",
    "    ds['Price_of_flight'].plot.box()\n",
    "    plt.savefig('task_3_IQR.png')\n",
    "\n",
    "    Q1 = ds['Price_of_flight'].quantile(0.25)\n",
    "    Q3 = ds['Price_of_flight'].quantile(0.75)\n",
    "    IQR = Q3 - Q1\n",
    "\n",
    "    outl_index = []\n",
    "    outl_data = []\n",
    "\n",
    "    for i, x in enumerate(ff['Price_of_flight']):\n",
    "        if (x < abs(Q1 - (1.5 * IQR))) or (x > abs(Q3 + (1.5 * IQR))):\n",
    "            outl_index.append(i)\n",
    "\n",
    "    for x in outl_index:\n",
    "        outl_data.append([ds['Date_of_Flight'][x], ds['Price_of_flight'][x]])\n",
    "\n",
    "    return pd.DataFrame(outl_data, columns=['Date_of_Flight', 'Price_of_flight'])"
   ]
  },
  {
   "cell_type": "code",
   "execution_count": null,
   "metadata": {
    "collapsed": true
   },
   "outputs": [],
   "source": [
    "def task_3_IQR(flight_data):    \n",
    "#     df['Price'].plot.box()\n",
    "#     plt.savefig('task_3_IQR.png')\n",
    "    \n",
    "    Q1 = df['Price'].quantile(0.25)\n",
    "    Q3 = df['Price'].quantile(0.75)\n",
    "    IQR = Q3 - Q1\n",
    "    \n",
    "    i = 'Price'\n",
    "    ax = df[i].plot(kind='kde')\n",
    " \n",
    "    plt.subplot(212)\n",
    "    plt.xlim(df[i].min(), df[i].max()*1.1)\n",
    "    sns.boxplot(x=df[i])\n",
    "    plt.axvline(x=min)\n",
    "    plt.axvline(x=max)\n",
    "    plt.savefig('task_3_IQR.png')\n",
    "\n",
    "    iqr_outlier_index = []\n",
    "    iqr_outlier_data = []\n",
    "\n",
    "    for i, x in enumerate(df['Price']):\n",
    "        if (x < abs(Q1 - (1.5 * IQR))) or (x > abs(Q3 + (1.5 * IQR))):\n",
    "            iqr_outlier_index.append(i)\n",
    "\n",
    "    for x in iqr_outlier_index:\n",
    "        iqr_outlier_data.append([df['Start_Date'][x], df['Price'][x]])\n",
    "\n",
    "    return pd.DataFrame(iqr_outlier_data, columns=['Start_Date', 'Price'])\n",
    "    \n",
    "#     def outliers_iqr(ys):\n",
    "#         quartile_1, quartile_3 = np.percentile(ys, [25, 75])\n",
    "#         iqr = quartile_3 - quartile_1\n",
    "#         lower_bound = quartile_1 - (iqr * 1.5)\n",
    "#         upper_bound = quartile_3 + (iqr * 1.5)\n",
    "#         return np.where((ys > upper_bound) | (ys < lower_bound))\n",
    "    \n",
    "#     q1 = df['Price'].quantile(.25)\n",
    "#     q2 = df['Price'].quantile(.75)\n",
    "#     mask = df['Price'].between(q1, q2, inclusive=True)\n",
    "#     iqr = df.loc[mask, 'Price']\n",
    "    \n",
    "#     i = 'Price'\n",
    "#     ax = df[i].plot(kind='kde')\n",
    " \n",
    "#     plt.subplot(212)\n",
    "#     plt.xlim(df[i].min(), df[i].max()*1.1)\n",
    "#     sns.boxplot(x=df[i])\n",
    "#     plt.axvline(x=min)\n",
    "#     plt.axvline(x=max)\n",
    "    \n",
    "#     outl_index = []\n",
    "#     outl_data = []\n",
    "    \n",
    "#     lower_bound = q1 - (iqr * 1.5)\n",
    "#     upper_bound = q2 + (iqr * 1.5)\n",
    "    \n",
    "#     for i, x in enumerate(df['Price']):\n",
    "#         if (x < lower_bound) or (x > upper_bound):\n",
    "#             outl_index.append(i)\n",
    "\n",
    "#     for x in outl_index:\n",
    "#         outl_data.append([df['Date_of_Flight'][x], df['Price'][x]])\n",
    "\n",
    "#     return pd.DataFrame(outl_data, columns=['Date_of_Flight', 'Price'])\n",
    "   "
   ]
  },
  {
   "cell_type": "code",
   "execution_count": null,
   "metadata": {
    "collapsed": false,
    "scrolled": true
   },
   "outputs": [],
   "source": [
    "task_3_IQR(df)"
   ]
  },
  {
   "cell_type": "code",
   "execution_count": null,
   "metadata": {
    "collapsed": true
   },
   "outputs": [],
   "source": [
    "# task4"
   ]
  },
  {
   "cell_type": "code",
   "execution_count": 81,
   "metadata": {
    "collapsed": false
   },
   "outputs": [
    {
     "data": {
      "text/plain": [
       "0"
      ]
     },
     "execution_count": 81,
     "metadata": {},
     "output_type": "execute_result"
    }
   ],
   "source": [
    "def task_4(flight_data):\n",
    "    px = [x for x in df['Price']]\n",
    "    ff = pd.DataFrame(px, columns=['Price_of_flight']).reset_index()\n",
    "\n",
    "    X = MinMaxScaler().fit_transform(ff) \n",
    "    db = DBSCAN(eps = 0.06, min_samples = 5).fit(X)\n",
    "\n",
    "    labels = db.labels_\n",
    "    clusters = len(set(labels))\n",
    "    unique_labels = set(labels)\n",
    "    colors = plt.cm.Spectral(np.linspace(0, 1, len(unique_labels)))\n",
    "\n",
    "    plt.subplots(figsize = (12,8))\n",
    "\n",
    "    for k,c in zip(unique_labels, colors):\n",
    "        class_member_mask = (labels == k)\n",
    "        xy = X[class_member_mask]\n",
    "        plt.plot(xy[:, 0], xy[:, 1], 'o', markerfacecolor = c, markeredgecolor = 'k',markersize = 14)\n",
    "    \n",
    "    plt.title('Total Clusters: {}'.format(clusters), fontsize = 14, y = 1.01) \n",
    "\n",
    "    def calculate_cluster_means(X, labels):\n",
    "        lbls = np.unique(labels)\n",
    "        print \"Cluster labels: {}\".format(np.unique(lbls))\n",
    "\n",
    "        cluster_means = [np.mean(X[labels==num, :], axis=0) for num in range(lbls[-1] + 1)]\n",
    "        print \"Cluster Means: {}\".format(cluster_means)\n",
    "        return cluster_means\n",
    "\n",
    "    cluster_means = calculate_cluster_means(X, labels)\n",
    "\n",
    "    out_ind = []\n",
    "    for ind,y in enumerate(X):\n",
    "        if labels[ind]== -1:\n",
    "            out_ind.append([ind,y])\n",
    "\n",
    "    class_member_mask = (labels == -1) \n",
    "    outs = X[class_member_mask]\n",
    "\n",
    "    chosen_list = []\n",
    "\n",
    "    for out_index,out in enumerate(outs):    \n",
    "        min_list = []\n",
    "        for index,cm in enumerate(cluster_means):         \n",
    "             min_list.append(euclidean(cm, out))\n",
    "\n",
    "        for inx,abc in enumerate(min_list):\n",
    "            if abc == sorted(min_list)[0]:\n",
    "                chosen_list.append([out_index,inx])\n",
    "            \n",
    "    outlier_prices = []\n",
    "    for i,abc in enumerate(out_ind):\n",
    "         outlier_prices.append(df['Price'][abc[0]])\n",
    "    \n",
    "    def cluster_mean_price(index):\n",
    "        clus_ind = []\n",
    "        for ind,y in enumerate(X):\n",
    "            if labels[ind]== index:\n",
    "                clus_ind.append([ind,y])\n",
    "    \n",
    "        class_member_mask_clus = (labels == index) \n",
    "        clus = X[class_member_mask_clus] \n",
    "   \n",
    "        clus_prices=[]\n",
    "        for i,abc in enumerate(clus_ind):\n",
    "            clus_prices.append(df['Price'][abc[0]])   \n",
    "\n",
    "        return clus_prices\n",
    "\n",
    "    clus_chosenlist = []\n",
    "    for b in chosen_list:\n",
    "        clus_chosenlist.append(b[1])\n",
    "    \n",
    "# print clus_chosenlist\n",
    "\n",
    "    clean_clus = []\n",
    "    for i in clus_chosenlist:\n",
    "        if i not in clean_clus:\n",
    "            clean_clus.append(i)\n",
    "        \n",
    "# print clean_clus\n",
    "\n",
    "# cluster_price_list = []\n",
    "    cluster__price = []\n",
    "    for value in clean_clus:\n",
    "        for index in [value]:\n",
    "            cluster__price.append(cluster_mean_price(index))\n",
    "#     cluster_price_list.append(cluster__price)\n",
    "#     cluster__price = []\n",
    "    \n",
    "# cluster__price\n",
    "\n",
    "    v = []\n",
    "    for i in cluster__price:\n",
    "        v.append([abs(i[a+1]-i[a]) for a in range(len(i)-1)])\n",
    "    \n",
    "    for i in cluster__price:\n",
    "    if all(a<=20 for a in i) == True:\n",
    "\n",
    "# for i in v:\n",
    "#     if all(a<=20 for a in i) == True: \n",
    "        \n",
    "# cluster_price_list\n",
    "\n",
    "\n",
    "# one = cluster_mean_price(clean_clus[0])\n",
    "\n",
    "# # v = [abs(one[i+1]-one[i]) for i in range(len(one)-1)]\n",
    "\n",
    "# df_best_price = pd.DataFrame(columns=('Start_Date','Price'))\n",
    "# best_price = 0\n",
    "# for i in cluster__price:\n",
    "#     if all(a<=20 for a in i) == True:\n",
    "#         best_price += 1\n",
    "# #         df_best_price.loc[best_price] = df.loc[cluster__price[0]]\n",
    "\n",
    "# # df_best_price\n",
    "# best_price\n",
    "        \n",
    "        "
   ]
  },
  {
   "cell_type": "code",
   "execution_count": null,
   "metadata": {
    "collapsed": false
   },
   "outputs": [],
   "source": [
    "# df['Price'][5]"
   ]
  },
  {
   "cell_type": "code",
   "execution_count": null,
   "metadata": {
    "collapsed": false
   },
   "outputs": [],
   "source": [
    "df['Price'].plot.box()"
   ]
  },
  {
   "cell_type": "code",
   "execution_count": null,
   "metadata": {
    "collapsed": true
   },
   "outputs": [],
   "source": [
    "import numpy as np\n",
    "\n",
    "def outliers_iqr(ys):\n",
    "    quartile_1, quartile_3 = np.percentile(ys, [25, 75])\n",
    "    iqr = quartile_3 - quartile_1\n",
    "    lower_bound = quartile_1 - (iqr * 1.5)\n",
    "    upper_bound = quartile_3 + (iqr * 1.5)\n",
    "    return np.where((ys > upper_bound) | (ys < lower_bound))"
   ]
  },
  {
   "cell_type": "code",
   "execution_count": null,
   "metadata": {
    "collapsed": false
   },
   "outputs": [],
   "source": [
    "outliers_iqr(df['Price'])"
   ]
  },
  {
   "cell_type": "code",
   "execution_count": null,
   "metadata": {
    "collapsed": false
   },
   "outputs": [],
   "source": [
    "q75, q25 = np.percentile(df.Price, [75 ,25])\n",
    "iqr = q75 - q25\n",
    " \n",
    "min = q25 - (iqr*1.5)\n",
    "max = q75 + (iqr*1.5)"
   ]
  },
  {
   "cell_type": "code",
   "execution_count": null,
   "metadata": {
    "collapsed": false
   },
   "outputs": [],
   "source": [
    "# Q1 = df['Price'].quantile(0.25)\n",
    "# Q3 = df['Price'].quantile(0.75)\n",
    "# IQR = Q3 - Q1\n",
    "\n",
    "# # #Values between Q1-1.5IQR and Q3+1.5IQR\n",
    "# # filtered = df.query('(@Q1 - 1.5 * @IQR) <= nb <= (@Q3 + 1.5 * @IQR)')\n",
    "\n",
    "# # print(filtered.head())\n",
    "# # #     nb"
   ]
  },
  {
   "cell_type": "code",
   "execution_count": null,
   "metadata": {
    "collapsed": false
   },
   "outputs": [],
   "source": [
    "q1 = df['Price'].quantile(.25)\n",
    "q2 = df['Price'].quantile(.75)\n",
    "mask = df['Price'].between(q1, q2, inclusive=True)\n",
    "iqr = df.loc[mask, 'Price']\n",
    "iqr"
   ]
  },
  {
   "cell_type": "code",
   "execution_count": null,
   "metadata": {
    "collapsed": false
   },
   "outputs": [],
   "source": [
    "i = 'Price'\n",
    " \n",
    "# plt.figure(figsize=(10,8))\n",
    "# plt.subplot(211)\n",
    "# plt.xlim(df[i].min(), df[i].max()*1.1)\n",
    "# plt.axvline(x=min)\n",
    "# plt.axvline(x=max)\n",
    " \n",
    "ax = df[i].plot(kind='kde')\n",
    " \n",
    "plt.subplot(212)\n",
    "plt.xlim(df[i].min(), df[i].max()*1.1)\n",
    "sns.boxplot(x=df[i])\n",
    "plt.axvline(x=min)\n",
    "plt.axvline(x=max)"
   ]
  },
  {
   "cell_type": "code",
   "execution_count": null,
   "metadata": {
    "collapsed": false
   },
   "outputs": [],
   "source": [
    "fig, ax = plt.subplots(figsize=(10,6))\n",
    "plt.scatter(np.arange(len(df['Price'])), df['Price'])"
   ]
  },
  {
   "cell_type": "code",
   "execution_count": null,
   "metadata": {
    "collapsed": true
   },
   "outputs": [],
   "source": [
    "px = [x for x in df['Price']]\n",
    "ff = pd.DataFrame(px, columns=['Price_of_flight']).reset_index()"
   ]
  },
  {
   "cell_type": "code",
   "execution_count": null,
   "metadata": {
    "collapsed": true
   },
   "outputs": [],
   "source": [
    "# X = StandardScaler().fit_transform(ff) \n",
    "# db = DBSCAN(eps = 0.01, min_samples = 1).fit(X)\n",
    "\n",
    "# labels = db.labels_\n",
    "# clusters = len(set(labels))\n",
    "# unique_labels = set(labels)\n",
    "# colors = plt.cm.Spectral(np.linspace(0, 1, len(unique_labels)))\n",
    "\n",
    "# plt.subplots(figsize = (12,8))\n",
    "\n",
    "# for k,c in zip(unique_labels, colors):\n",
    "#     class_member_mask = (labels == k)\n",
    "#     xy = X[class_member_mask]\n",
    "#     plt.plot(xy[:, 0], xy[:, 1], 'o', markerfacecolor = c, markeredgecolor = 'k',markersize = 14)\n",
    "    \n",
    "    \n",
    "# plt.title('Total Clusters: {}'.format(clusters), fontsize = 14, y = 1.01)   "
   ]
  },
  {
   "cell_type": "code",
   "execution_count": 62,
   "metadata": {
    "collapsed": false
   },
   "outputs": [],
   "source": [
    "def task_3_dbscan(flight_data):\n",
    "       \n",
    "    px = [x for x in df['Price']]\n",
    "    ff = pd.DataFrame(px, columns=['Price_of_flight']).reset_index()\n",
    "\n",
    "    X = MinMaxScaler().fit_transform(ff) \n",
    "    db = DBSCAN(eps = 0.05, min_samples = 3).fit(X)\n",
    "\n",
    "    labels = db.labels_\n",
    "    clusters = len(set(labels))\n",
    "    unique_labels = set(labels)\n",
    "    colors = plt.cm.Spectral(np.linspace(0, 1, len(unique_labels)))\n",
    "\n",
    "    plt.subplots(figsize = (12,8))\n",
    "\n",
    "    for k,c in zip(unique_labels, colors):\n",
    "        class_member_mask = (labels == k)\n",
    "        xy = X[class_member_mask]\n",
    "        plt.plot(xy[:, 0], xy[:, 1], 'o', markerfacecolor = c, markeredgecolor = 'k',markersize = 14)\n",
    "    \n",
    "    plt.title('Total Clusters: {}'.format(clusters), fontsize = 14, y = 1.01) \n",
    "\n",
    "    def calculate_cluster_means(X, labels):\n",
    "        lbls = np.unique(labels)\n",
    "        print \"Cluster labels: {}\".format(np.unique(lbls))\n",
    "\n",
    "        cluster_means = [np.mean(X[labels==num, :], axis=0) for num in range(lbls[-1] + 1)]\n",
    "        print \"Cluster Means: {}\".format(cluster_means)\n",
    "        return cluster_means\n",
    "\n",
    "    cluster_means = calculate_cluster_means(X, labels)\n",
    "\n",
    "    out_ind = []\n",
    "    for ind,y in enumerate(X):\n",
    "        if labels[ind]== -1:\n",
    "            out_ind.append([ind,y])\n",
    "\n",
    "    class_member_mask = (labels == -1) \n",
    "    outs = X[class_member_mask]\n",
    "\n",
    "    chosen_list = []\n",
    "\n",
    "    for out_index,out in enumerate(outs):    \n",
    "        min_list = []\n",
    "        for index,cm in enumerate(cluster_means):         \n",
    "            min_list.append(euclidean(cm, out))\n",
    "\n",
    "        for inx,abc in enumerate(min_list):\n",
    "            if abc == sorted(min_list)[0]:\n",
    "                chosen_list.append([out_index,inx])\n",
    "            \n",
    "    outlier_prices = []\n",
    "    for i,abc in enumerate(out_ind):\n",
    "        outlier_prices.append(df['Price'][abc[0]])\n",
    "    \n",
    "    def cluster_mean_price(index):\n",
    "        clus_ind = []\n",
    "        for ind,y in enumerate(X):\n",
    "            if labels[ind]== index:\n",
    "                clus_ind.append([ind,y])\n",
    "    \n",
    "        class_member_mask_clus = (labels == index) \n",
    "        clus = X[class_member_mask_clus] \n",
    "    \n",
    "        clus_prices=[]\n",
    "        for i,abc in enumerate(clus_ind):\n",
    "            clus_prices.append(df['Price'][abc[0]])   \n",
    "\n",
    "        return clus_prices\n",
    "    \n",
    "    \n",
    "    mean_of_chosenlist_clusters= []\n",
    "    for b in chosen_list:\n",
    "        mean_of_chosenlist_clusters.append(mean(cluster_mean_price(b[1])))\n",
    "    \n",
    "    stdev_of_chosenlist=[]\n",
    "    for b in chosen_list:\n",
    "        stdev_of_chosenlist.append(stdev(cluster_mean_price(b[1])))\n",
    "    \n",
    "    outlier_indexes = []\n",
    "    for b in chosen_list:\n",
    "        outlier_indexes.append(b[0])\n",
    "\n",
    "    \n",
    "    df_best_price = pd.DataFrame(columns=('Start_Date','Price'))\n",
    "    best_price = 0\n",
    "    for x in range(0, (len(outlier_indexes))-1):    \n",
    "        m = int(mean_of_chosenlist_clusters[x])\n",
    "        s = int(stdev_of_chosenlist[x])\n",
    "        if (outlier_prices[x] <  (m - (2 * s))) and  (outlier_prices[x] < (m - 50)):\n",
    "            best_price += 1\n",
    "            df_best_price.loc[best_price] = df.loc[outlier_indexes[x]]\n",
    "        \n",
    "    return df_best_price\n",
    "\n",
    "\n"
   ]
  },
  {
   "cell_type": "code",
   "execution_count": null,
   "metadata": {
    "collapsed": false,
    "scrolled": true
   },
   "outputs": [],
   "source": [
    "task_3_dbscan(df)"
   ]
  },
  {
   "cell_type": "code",
   "execution_count": null,
   "metadata": {
    "collapsed": true
   },
   "outputs": [],
   "source": [
    "def task_4_dbscan(flight_data):\n",
    "       \n",
    "    px = [x for x in df['Price']]\n",
    "    ff = pd.DataFrame(px, columns=['Price_of_flight']).reset_index()\n",
    "\n",
    "    X = MinMaxScaler().fit_transform(ff) \n",
    "    db = DBSCAN(eps = 0.05, min_samples = 3).fit(X)\n",
    "\n",
    "    labels = db.labels_\n",
    "    clusters = len(set(labels))\n",
    "    unique_labels = set(labels)\n",
    "    colors = plt.cm.Spectral(np.linspace(0, 1, len(unique_labels)))\n",
    "\n",
    "    plt.subplots(figsize = (12,8))\n",
    "\n",
    "    for k,c in zip(unique_labels, colors):\n",
    "        class_member_mask = (labels == k)\n",
    "        xy = X[class_member_mask]\n",
    "        plt.plot(xy[:, 0], xy[:, 1], 'o', markerfacecolor = c, markeredgecolor = 'k',markersize = 14)\n",
    "    \n",
    "    plt.title('Total Clusters: {}'.format(clusters), fontsize = 14, y = 1.01) \n",
    "\n",
    "    def calculate_cluster_means(X, labels):\n",
    "        lbls = np.unique(labels)\n",
    "        print \"Cluster labels: {}\".format(np.unique(lbls))\n",
    "\n",
    "        cluster_means = [np.mean(X[labels==num, :], axis=0) for num in range(lbls[-1] + 1)]\n",
    "        print \"Cluster Means: {}\".format(cluster_means)\n",
    "        return cluster_means\n",
    "\n",
    "    cluster_means = calculate_cluster_means(X, labels)\n",
    "\n",
    "    out_ind = []\n",
    "    for ind,y in enumerate(X):\n",
    "        if labels[ind]== -1:\n",
    "            out_ind.append([ind,y])\n",
    "\n",
    "    class_member_mask = (labels == -1) \n",
    "    outs = X[class_member_mask]\n",
    "\n",
    "    chosen_list = []\n",
    "\n",
    "    for out_index,out in enumerate(outs):    \n",
    "        min_list = []\n",
    "        for index,cm in enumerate(cluster_means):         \n",
    "            min_list.append(euclidean(cm, out))\n",
    "\n",
    "        for inx,abc in enumerate(min_list):\n",
    "            if abc == sorted(min_list)[0]:\n",
    "                chosen_list.append([out_index,inx])\n",
    "            \n",
    "    outlier_prices = []\n",
    "    for i,abc in enumerate(out_ind):\n",
    "        outlier_prices.append(df['Price'][abc[0]])\n",
    "    \n",
    "    def cluster_mean_price(index):\n",
    "        clus_ind = []\n",
    "        for ind,y in enumerate(X):\n",
    "            if labels[ind]== index:\n",
    "                clus_ind.append([ind,y])\n",
    "    \n",
    "        class_member_mask_clus = (labels == index) \n",
    "        clus = X[class_member_mask_clus] \n",
    "    \n",
    "        clus_prices=[]\n",
    "        for i,abc in enumerate(clus_ind):\n",
    "            clus_prices.append(df['Price'][abc[0]])   \n",
    "\n",
    "        return clus_prices\n",
    "    \n",
    "    \n",
    "    mean_of_chosenlist_clusters= []\n",
    "    for b in chosen_list:\n",
    "        mean_of_chosenlist_clusters.append(mean(cluster_mean_price(b[1])))\n",
    "    \n",
    "    stdev_of_chosenlist=[]\n",
    "    for b in chosen_list:\n",
    "        stdev_of_chosenlist.append(stdev(cluster_mean_price(b[1])))\n",
    "    \n",
    "    outlier_indexes = []\n",
    "    for b in chosen_list:\n",
    "        outlier_indexes.append(b[0])"
   ]
  },
  {
   "cell_type": "code",
   "execution_count": 63,
   "metadata": {
    "collapsed": false,
    "scrolled": true
   },
   "outputs": [
    {
     "name": "stdout",
     "output_type": "stream",
     "text": [
      "Cluster labels: [-1  0  1  2  3  4  5  6]\n",
      "Cluster Means: [array([ 0.25423729,  0.13125   ]), array([ 0.31355932,  0.1546875 ]), array([ 0.44067797,  0.13125   ]), array([ 0.51694915,  0.13125   ]), array([ 0.61016949,  0.078125  ]), array([ 0.81355932,  0.078125  ]), array([ 0.93220339,  0.078125  ])]\n",
      "[[0, 0], [1, 0], [2, 1], [3, 1], [4, 1], [5, 1], [6, 1], [7, 1], [8, 1], [9, 1], [10, 1], [11, 0], [12, 0], [13, 0], [14, 1], [15, 1], [16, 2], [17, 2], [18, 2], [19, 4], [20, 4], [21, 4], [22, 5], [23, 5], [24, 5], [25, 5], [26, 5], [27, 5], [28, 6], [29, 6], [30, 6], [31, 6], [32, 6]]\n"
     ]
    },
    {
     "ename": "NameError",
     "evalue": "name 'mean' is not defined",
     "output_type": "error",
     "traceback": [
      "\u001b[0;31m---------------------------------------------------------------------------\u001b[0m",
      "\u001b[0;31mNameError\u001b[0m                                 Traceback (most recent call last)",
      "\u001b[0;32m<ipython-input-63-f46e985c8e17>\u001b[0m in \u001b[0;36m<module>\u001b[0;34m()\u001b[0m\n\u001b[1;32m     88\u001b[0m \u001b[0mmean_of_chosenlist_clusters\u001b[0m\u001b[1;33m=\u001b[0m \u001b[1;33m[\u001b[0m\u001b[1;33m]\u001b[0m\u001b[1;33m\u001b[0m\u001b[0m\n\u001b[1;32m     89\u001b[0m \u001b[1;32mfor\u001b[0m \u001b[0mb\u001b[0m \u001b[1;32min\u001b[0m \u001b[0mchosen_list\u001b[0m\u001b[1;33m:\u001b[0m\u001b[1;33m\u001b[0m\u001b[0m\n\u001b[0;32m---> 90\u001b[0;31m     \u001b[0mmean_of_chosenlist_clusters\u001b[0m\u001b[1;33m.\u001b[0m\u001b[0mappend\u001b[0m\u001b[1;33m(\u001b[0m\u001b[0mmean\u001b[0m\u001b[1;33m(\u001b[0m\u001b[0mcluster_mean_price\u001b[0m\u001b[1;33m(\u001b[0m\u001b[0mb\u001b[0m\u001b[1;33m[\u001b[0m\u001b[1;36m1\u001b[0m\u001b[1;33m]\u001b[0m\u001b[1;33m)\u001b[0m\u001b[1;33m)\u001b[0m\u001b[1;33m)\u001b[0m\u001b[1;33m\u001b[0m\u001b[0m\n\u001b[0m\u001b[1;32m     91\u001b[0m \u001b[1;33m\u001b[0m\u001b[0m\n\u001b[1;32m     92\u001b[0m \u001b[1;31m# for i in outlier_prices:\u001b[0m\u001b[1;33m\u001b[0m\u001b[1;33m\u001b[0m\u001b[0m\n",
      "\u001b[0;31mNameError\u001b[0m: name 'mean' is not defined"
     ]
    },
    {
     "data": {
      "image/png": "[encoded data removed]",
      "text/plain": [
       "<matplotlib.figure.Figure at 0xd93dd68>"
      ]
     },
     "metadata": {},
     "output_type": "display_data"
    }
   ],
   "source": [
    "X = MinMaxScaler().fit_transform(ff) \n",
    "db = DBSCAN(eps = 0.02, min_samples = 3).fit(X)\n",
    "\n",
    "labels = db.labels_\n",
    "clusters = len(set(labels))\n",
    "unique_labels = set(labels)\n",
    "colors = plt.cm.Spectral(np.linspace(0, 1, len(unique_labels)))\n",
    "\n",
    "plt.subplots(figsize = (12,8))\n",
    "\n",
    "for k,c in zip(unique_labels, colors):\n",
    "    class_member_mask = (labels == k)\n",
    "    xy = X[class_member_mask]\n",
    "    plt.plot(xy[:, 0], xy[:, 1], 'o', markerfacecolor = c, markeredgecolor = 'k',markersize = 14)\n",
    "    \n",
    "    \n",
    "plt.title('Total Clusters: {}'.format(clusters), fontsize = 14, y = 1.01) \n",
    "\n",
    "def calculate_cluster_means(X, labels):\n",
    "    lbls = np.unique(labels)\n",
    "    print \"Cluster labels: {}\".format(np.unique(lbls))\n",
    "\n",
    "    cluster_means = [np.mean(X[labels==num, :], axis=0) for num in range(lbls[-1] + 1)]\n",
    "    print \"Cluster Means: {}\".format(cluster_means)\n",
    "    return cluster_means\n",
    "\n",
    "# Getting outliers and their indexes in dataframe\n",
    "out_ind = []\n",
    "for ind,y in enumerate(X):\n",
    "    if labels[ind]== -1:\n",
    "        out_ind.append([ind,y])\n",
    "# out_ind\n",
    "\n",
    "# Cluster means\n",
    "cluster_means = calculate_cluster_means(X, labels)\n",
    "\n",
    "# Outliers\n",
    "class_member_mask = (labels == -1) \n",
    "outs = X[class_member_mask] \n",
    "# outs\n",
    "\n",
    "\n",
    "# Finding closest cluster for each outlier\n",
    "chosen_list = []\n",
    "\n",
    "for out_index,out in enumerate(outs):    \n",
    "    min_list = []\n",
    "    for index,cm in enumerate(cluster_means):         \n",
    "        min_list.append(euclidean(cm, out))\n",
    "\n",
    "    for inx,abc in enumerate(min_list):\n",
    "        if abc == sorted(min_list)[0]:\n",
    "            chosen_list.append([out_index,inx])\n",
    "\n",
    "outlier_prices = []\n",
    "for i,abc in enumerate(out_ind):\n",
    "    outlier_prices.append(df['Price'][abc[0]])\n",
    "# for chosen in chosen_list:\n",
    "#     outlier_cods = \n",
    "\n",
    "print chosen_list\n",
    "# outlier_prices\n",
    "\n",
    "# # for b in chosen_list:\n",
    "# #     cluster_ind = []\n",
    "# #     for ind,y in enumerate(X):\n",
    "# #         if labels[ind]== b[1]:\n",
    "# #             cluster_ind.append([ind,y])\n",
    "            \n",
    "# # print cluster_ind\n",
    "\n",
    "# cluster_ind = []\n",
    "# for b in chosen_list:\n",
    "#     for ind,y in enumerate(X):\n",
    "#         if labels[ind]== b[1]:\n",
    "#             cluster_ind.append([ind,y])\n",
    "            \n",
    "            \n",
    "# # print cluster_ind\n",
    "\n",
    "# cluster_nearest_prices=[]\n",
    "# for i,abc in enumerate(cluster_ind):\n",
    "#     cluster_nearest_prices.append(df['Price'][abc[0]])\n",
    "    \n",
    "# print cluster_nearest_prices\n",
    "\n",
    "\n",
    "mean_of_chosenlist_clusters= []\n",
    "for b in chosen_list:\n",
    "    mean_of_chosenlist_clusters.append(mean(cluster_mean_price(b[1])))\n",
    "\n",
    "# for i in outlier_prices:\n",
    "#     print i\n",
    "\n",
    "# print mean_of_chosenlist_clusters\n",
    "\n",
    "# print zip(outlier_prices, mean_of_chosenlist_clusters)\n",
    "from statistics import stdev\n",
    "\n",
    "stdev_of_chosenlist=[]\n",
    "for b in chosen_list:\n",
    "    stdev_of_chosenlist.append(stdev(cluster_mean_price(b[1])))\n",
    "    \n",
    "# stdev_of_chosenlist\n",
    "\n",
    "outlier_indexes = []\n",
    "for b in chosen_list:\n",
    "    outlier_indexes.append(b[0])\n",
    "    \n",
    "# outlier_indexes\n",
    "\n",
    "# df_best_price =pd.DataFrame(columns=('Start_Date','Price'))\n",
    "# best_price_count = 0\n",
    "\n",
    "# for x in range(0, (len(outlier_indexes))-1):    \n",
    "#     m = int(mean_of_chosenlist_clusters[x])\n",
    "#     s = int(stdev_of_chosenlist[x])\n",
    "#     if (outlier_prices[x] <  (m - (2 * s))) and  (outlier_prices[x] < (m - 50)):\n",
    "#         best_price_count += 1\n",
    "#         df_best_price.loc[best_price_count] = df.ix[outlier_indexes[x]]\n",
    "\n",
    "print outlier_indexes"
   ]
  },
  {
   "cell_type": "code",
   "execution_count": null,
   "metadata": {
    "collapsed": false
   },
   "outputs": [],
   "source": [
    "lbls = np.unique(labels)\n",
    "range(0,(len(lbls)-1))"
   ]
  },
  {
   "cell_type": "code",
   "execution_count": null,
   "metadata": {
    "collapsed": false
   },
   "outputs": [],
   "source": [
    "def cluster_mean_price(index):\n",
    "    clus_ind = []\n",
    "    for ind,y in enumerate(X):\n",
    "        if labels[ind]== index:\n",
    "            clus_ind.append([ind,y])\n",
    "    \n",
    "    class_member_mask_clus = (labels == index) \n",
    "    clus = X[class_member_mask_clus] \n",
    "    \n",
    "    clus_prices=[]\n",
    "    for i,abc in enumerate(clus_ind):\n",
    "        clus_prices.append(df['Price'][abc[0]])   \n",
    "\n",
    "    return clus_prices\n",
    "#     return statistics.stdev(clus_prices), statistics.mean(clus_prices)    "
   ]
  },
  {
   "cell_type": "code",
   "execution_count": null,
   "metadata": {
    "collapsed": true
   },
   "outputs": [],
   "source": [
    "def cluster_stdev_price(index):\n",
    "    clus_ind = []\n",
    "    for ind,y in enumerate(X):\n",
    "        if labels[ind]== index:\n",
    "            clus_ind.append([ind,y])\n",
    "    \n",
    "    class_member_mask_clus = (labels == index) \n",
    "    clus = X[class_member_mask_clus] \n",
    "    \n",
    "    clus_prices=[]\n",
    "    for i,abc in enumerate(clus_ind):\n",
    "        clus_prices.append(df['Price'][abc[0]])   \n",
    "\n",
    "    return statistics.stdev(clus_prices)   "
   ]
  },
  {
   "cell_type": "code",
   "execution_count": null,
   "metadata": {
    "collapsed": false
   },
   "outputs": [],
   "source": [
    "#Cluster one \n",
    "def calculate_cluster_means(X, labels):\n",
    "    lbls = np.unique(labels)\n",
    "    print \"Cluster labels: {}\".format(np.unique(lbls))\n",
    "\n",
    "    cluster_means = [np.mean(X[labels==num, :], axis=0) for num in range(lbls[-1] + 1)]\n",
    "    print \"Cluster Means: {}\".format(cluster_means)\n",
    "    return cluster_means\n",
    "\n",
    "# Cluster means\n",
    "cluster_means = calculate_cluster_means(X, labels)\n",
    "\n",
    "# Getting cluster 1 and their indexes in dataframe\n",
    "c1_ind = []\n",
    "for ind,y in enumerate(X):\n",
    "    if labels[ind]== 0:\n",
    "        c1_ind.append([ind,y])\n",
    "# c1_ind\n",
    "\n",
    "# Cluster 1\n",
    "class_member_mask_c1 = (labels == 0) \n",
    "c1 = X[class_member_mask_c1] \n",
    "\n",
    "\n",
    "print c1_ind\n",
    "\n",
    "cluster_one_prices=[]\n",
    "\n",
    "for i,abc in enumerate(c1_ind):\n",
    "    cluster_one_prices.append(df['Price'][abc[0]])\n",
    "    \n",
    "print cluster_one_prices\n",
    "# cluster_one_prices_mean =  reduce(lambda x, y: x + y, cluster_one_prices) / len(cluster_one_prices)\n",
    "# print cluster_one_prices_mean\n",
    "\n",
    "# def mean(data):\n",
    "#     \"\"\"Return the sample arithmetic mean of data.\"\"\"\n",
    "#     n = len(data)\n",
    "#     if n < 1:\n",
    "#         raise ValueError('mean requires at least one data point')\n",
    "#     return sum(data)/n # in Python 2 use sum(data)/float(n)\n",
    "\n",
    "\n",
    "\n",
    "print statistics.stdev(cluster_one_prices)\n",
    "print statistics.mean(cluster_one_prices)"
   ]
  },
  {
   "cell_type": "code",
   "execution_count": null,
   "metadata": {
    "collapsed": false
   },
   "outputs": [],
   "source": [
    "# Getting cluster 2 and their indexes in dataframe\n",
    "c2_ind = []\n",
    "for ind,y in enumerate(X):\n",
    "    if labels[ind]== 1:\n",
    "        c2_ind.append([ind,y])\n",
    "# c2_ind\n",
    "\n",
    "# Cluster 2\n",
    "class_member_mask_c2 = (labels == 1) \n",
    "c2 = X[class_member_mask_c2] \n",
    "\n",
    "\n",
    "print c2_ind\n",
    "\n",
    "cluster_two_prices=[]\n",
    "\n",
    "for i,abc in enumerate(c2_ind):\n",
    "    cluster_two_prices.append(df['Price'][abc[0]])\n",
    "    \n",
    "print cluster_two_prices\n",
    "# cluster_two_prices_mean =  reduce(lambda x, y: x + y, cluster_one_prices) / len(cluster_one_prices)\n",
    "# print cluster_two_prices_mean\n",
    "\n",
    "def mean(data):\n",
    "    \"\"\"Return the sample arithmetic mean of data.\"\"\"\n",
    "    n = len(data)\n",
    "    if n < 1:\n",
    "        raise ValueError('mean requires at least one data point')\n",
    "    return sum(data)/n # in Python 2 use sum(data)/float(n)\n",
    "\n",
    "def _ss(data):\n",
    "    \"\"\"Return sum of square deviations of sequence data.\"\"\"\n",
    "    c = mean(data)\n",
    "    ss = sum((x-c)**2 for x in data)\n",
    "    return ss\n",
    "\n",
    "def pstdev(data):\n",
    "    \"\"\"Calculates the population standard deviation.\"\"\"\n",
    "    n = len(data)\n",
    "    if n < 2:\n",
    "        raise ValueError('variance requires at least two data points')\n",
    "    ss = _ss(data)\n",
    "    pvar = ss/n # the population variance\n",
    "    return pvar**0.5\n",
    "\n",
    "# print mean(cluster_two_prices)\n",
    "# print _ss(cluster_two_prices)\n",
    "# pstdev(cluster_two_prices)\n",
    "\n",
    "# for i in cluster_two_prices:\n",
    "#     if i-i <=20:\n",
    "#         print i\n",
    "\n",
    "def cluster_mean_price(index):\n",
    "    clus_ind = []\n",
    "    for ind,y in enumerate(X):\n",
    "        if labels[ind]== index:\n",
    "            clus_ind.append([ind,y])\n",
    "    \n",
    "    class_member_mask_clus = (labels == index) \n",
    "    clus = X[class_member_mask_clus] \n",
    "    \n",
    "    clus_prices=[]\n",
    "    for i,abc in enumerate(clus_ind):\n",
    "        clus_prices.append(df['Price'][abc[0]])   \n",
    "\n",
    "    return clus_prices\n",
    "#     return statistics.stdev(clus_prices), statistics.mean(clus_prices)    \n",
    "prices = []\n",
    "for i in range(0,4):\n",
    "    prices.append(cluster_mean_price(i))\n",
    "    \n",
    "prices\n",
    "\n",
    "for i in prices:\n",
    "    for a in range(len(i)):\n",
    "        if a -a <= 20:\n",
    "            print i\n"
   ]
  },
  {
   "cell_type": "code",
   "execution_count": null,
   "metadata": {
    "collapsed": false
   },
   "outputs": [],
   "source": [
    "# Getting cluster 3 and their indexes in dataframe\n",
    "c3_ind = []\n",
    "for ind,y in enumerate(X):\n",
    "    if labels[ind]== 2:\n",
    "        c3_ind.append([ind,y])\n",
    "# c3_ind\n",
    "\n",
    "# Cluster 3\n",
    "class_member_mask_c3 = (labels == 2) \n",
    "c3 = X[class_member_mask_c3] \n",
    "\n",
    "\n",
    "print c3_ind\n",
    "\n",
    "cluster_three_prices=[]\n",
    "\n",
    "for i,abc in enumerate(c3_ind):\n",
    "    cluster_three_prices.append(df['Price'][abc[0]])\n",
    "    \n",
    "print cluster_three_prices\n",
    "# cluster_two_prices_mean =  reduce(lambda x, y: x + y, cluster_one_prices) / len(cluster_one_prices)\n",
    "# print cluster_two_prices_mean\n",
    "\n",
    "def mean(data):\n",
    "    \"\"\"Return the sample arithmetic mean of data.\"\"\"\n",
    "    n = len(data)\n",
    "    if n < 1:\n",
    "        raise ValueError('mean requires at least one data point')\n",
    "    return sum(data)/n # in Python 2 use sum(data)/float(n)\n",
    "\n",
    "def _ss(data):\n",
    "    \"\"\"Return sum of square deviations of sequence data.\"\"\"\n",
    "    c = mean(data)\n",
    "    ss = sum((x-c)**2 for x in data)\n",
    "    return ss\n",
    "\n",
    "def pstdev(data):\n",
    "    \"\"\"Calculates the population standard deviation.\"\"\"\n",
    "    n = len(data)\n",
    "    if n < 2:\n",
    "        raise ValueError('variance requires at least two data points')\n",
    "    ss = _ss(data)\n",
    "    pvar = ss/n # the population variance\n",
    "    return pvar**0.5\n",
    "\n",
    "print mean(cluster_three_prices)\n",
    "print _ss(cluster_three_prices)\n",
    "pstdev(cluster_three_prices)"
   ]
  },
  {
   "cell_type": "code",
   "execution_count": null,
   "metadata": {
    "collapsed": false
   },
   "outputs": [],
   "source": [
    "# Getting cluster 4 and their indexes in dataframe\n",
    "c4_ind = []\n",
    "for ind,y in enumerate(X):\n",
    "    if labels[ind]== 3:\n",
    "        c4_ind.append([ind,y])\n",
    "# c3_ind\n",
    "\n",
    "# Cluster 3\n",
    "class_member_mask_c4 = (labels == 4) \n",
    "c4 = X[class_member_mask_c4] \n",
    "\n",
    "\n",
    "print c4_ind\n",
    "\n",
    "cluster_four_prices=[]\n",
    "\n",
    "for i,abc in enumerate(c4_ind):\n",
    "    cluster_four_prices.append(df['Price'][abc[0]])\n",
    "    \n",
    "print cluster_four_prices\n",
    "# cluster_two_prices_mean =  reduce(lambda x, y: x + y, cluster_one_prices) / len(cluster_one_prices)\n",
    "# print cluster_two_prices_mean\n",
    "\n",
    "def mean(data):\n",
    "    \"\"\"Return the sample arithmetic mean of data.\"\"\"\n",
    "    n = len(data)\n",
    "    if n < 1:\n",
    "        raise ValueError('mean requires at least one data point')\n",
    "    return sum(data)/n # in Python 2 use sum(data)/float(n)\n",
    "\n",
    "def _ss(data):\n",
    "    \"\"\"Return sum of square deviations of sequence data.\"\"\"\n",
    "    c = mean(data)\n",
    "    ss = sum((x-c)**2 for x in data)\n",
    "    return ss\n",
    "\n",
    "def pstdev(data):\n",
    "    \"\"\"Calculates the population standard deviation.\"\"\"\n",
    "    n = len(data)\n",
    "    if n < 2:\n",
    "        raise ValueError('variance requires at least two data points')\n",
    "    ss = _ss(data)\n",
    "    pvar = ss/n # the population variance\n",
    "    return pvar**0.5\n",
    "\n",
    "print mean(cluster_four_prices)\n",
    "print _ss(cluster_four_prices)\n",
    "pstdev(cluster_four_prices)"
   ]
  },
  {
   "cell_type": "code",
   "execution_count": null,
   "metadata": {
    "collapsed": false,
    "scrolled": true
   },
   "outputs": [],
   "source": [
    "# Getting cluster 5 and their indexes in dataframe\n",
    "c5_ind = []\n",
    "for ind,y in enumerate(X):\n",
    "    if labels[ind]== 4:\n",
    "        c5_ind.append([ind,y])\n",
    "# c5_ind\n",
    "\n",
    "# Cluster 5\n",
    "class_member_mask_c5 = (labels == 4) \n",
    "c5 = X[class_member_mask_c5] \n",
    "\n",
    "\n",
    "print c5_ind\n",
    "\n",
    "cluster_five_prices=[]\n",
    "\n",
    "for i,abc in enumerate(c5_ind):\n",
    "    cluster_five_prices.append(df['Price'][abc[0]])\n",
    "    \n",
    "print cluster_five_prices\n",
    "# cluster_two_prices_mean =  reduce(lambda x, y: x + y, cluster_one_prices) / len(cluster_one_prices)\n",
    "# print cluster_two_prices_mean\n",
    "\n",
    "def mean(data):\n",
    "    \"\"\"Return the sample arithmetic mean of data.\"\"\"\n",
    "    n = len(data)\n",
    "    if n < 1:\n",
    "        raise ValueError('mean requires at least one data point')\n",
    "    return sum(data)/n # in Python 2 use sum(data)/float(n)\n",
    "\n",
    "def _ss(data):\n",
    "    \"\"\"Return sum of square deviations of sequence data.\"\"\"\n",
    "    c = mean(data)\n",
    "    ss = sum((x-c)**2 for x in data)\n",
    "    return ss\n",
    "\n",
    "def pstdev(data):\n",
    "    \"\"\"Calculates the population standard deviation.\"\"\"\n",
    "    n = len(data)\n",
    "    if n < 2:\n",
    "        raise ValueError('variance requires at least two data points')\n",
    "    ss = _ss(data)\n",
    "    pvar = ss/n # the population variance\n",
    "    return pvar**0.5\n",
    "\n",
    "print mean(cluster_five_prices)\n",
    "print _ss(cluster_five_prices)\n",
    "pstdev(cluster_five_prices)"
   ]
  },
  {
   "cell_type": "code",
   "execution_count": null,
   "metadata": {
    "collapsed": false
   },
   "outputs": [],
   "source": [
    "cluster_mean_price(1)"
   ]
  },
  {
   "cell_type": "code",
   "execution_count": null,
   "metadata": {
    "collapsed": false
   },
   "outputs": [],
   "source": [
    "cluster_means = calculate_cluster_means(X, labels)\n",
    "cluster_means\n",
    "type(cluster_means)"
   ]
  },
  {
   "cell_type": "code",
   "execution_count": null,
   "metadata": {
    "collapsed": false
   },
   "outputs": [],
   "source": [
    "out_ind = []\n",
    "for ind,y in enumerate(X):\n",
    "    if labels[ind]== -1:\n",
    "        out_ind.append([ind,y])\n",
    "out_ind\n",
    "\n",
    "# labels[0] == -1"
   ]
  },
  {
   "cell_type": "code",
   "execution_count": null,
   "metadata": {
    "collapsed": false
   },
   "outputs": [],
   "source": [
    "l[0]"
   ]
  },
  {
   "cell_type": "code",
   "execution_count": null,
   "metadata": {
    "collapsed": false
   },
   "outputs": [],
   "source": [
    "from scipy.spatial.distance import euclidean, chebyshev, cityblock\n",
    "\n",
    "# get the distances to each clusters\n",
    "labels = db.labels_\n",
    "lbls = np.unique(db.labels_)\n",
    "print \"Cluster labels: {}\".format(np.unique(lbls))\n",
    "\n",
    "cluster_means = [np.mean(X[labels==num, :], axis=0) for num in range(lbls[-1] + 1)]\n",
    "print \"Cluster Means: {}\".format(cluster_means)\n",
    "\n",
    "noise_point = X[30, :]\n",
    "\n",
    "# euclidean\n",
    "dist = [euclidean(noise_point, cm) for cm in cluster_means]\n",
    "print \"Euclidean distance: {}\".format(dist)\n",
    "\n",
    "# chebyshev\n",
    "# dist = [chebyshev(noise_point, cm) for cm in cluster_means]\n",
    "# print \"Chebysev distance: {}\".format(dist)\n",
    "\n",
    "# cityblock\n",
    "# dist = [cityblock(noise_point, cm) for cm in cluster_means]\n",
    "# print \"Cityblock (Manhattan) distance: {}\".format(dist)"
   ]
  },
  {
   "cell_type": "code",
   "execution_count": null,
   "metadata": {
    "collapsed": false
   },
   "outputs": [],
   "source": [
    "db = DBSCAN(eps=0.1, min_samples=5).fit(X)\n",
    "\n",
    "# shamelessly copied code below ;)\n",
    "labels = db.labels_\n",
    "clusters = len(set(labels))\n",
    "unique_labels = set(labels)\n",
    "colors = plt.cm.Spectral(np.linspace(0, 1, len(unique_labels)))\n",
    " \n",
    "plt.subplots(figsize=(12,8))\n",
    " \n",
    "for k, c in zip(unique_labels, colors):\n",
    "    class_member_mask = (labels == -1)\n",
    "    xy = X[class_member_mask]\n",
    "    plt.plot(xy[:, 0], xy[:, 1], 'o', markerfacecolor=c,\n",
    "            markeredgecolor='k', markersize=14)\n",
    " \n",
    "plt.title(\"Total Clusters: {}\".format(clusters), fontsize=14,\n",
    "        y=1.01)"
   ]
  },
  {
   "cell_type": "code",
   "execution_count": null,
   "metadata": {
    "collapsed": false
   },
   "outputs": [],
   "source": [
    "labels"
   ]
  },
  {
   "cell_type": "code",
   "execution_count": null,
   "metadata": {
    "collapsed": false,
    "scrolled": true
   },
   "outputs": [],
   "source": [
    "class_member_mask = (labels == -1)\n",
    "xy = X[class_member_mask]\n",
    "xy"
   ]
  },
  {
   "cell_type": "code",
   "execution_count": null,
   "metadata": {
    "collapsed": false
   },
   "outputs": [],
   "source": [
    "cluster_means"
   ]
  },
  {
   "cell_type": "code",
   "execution_count": null,
   "metadata": {
    "collapsed": false,
    "scrolled": false
   },
   "outputs": [],
   "source": [
    "# list=[]\n",
    "dist1 = [(euclidean(cm, i)) for cm in cluster_means for i in xy ]\n",
    "print \"Euclidean distance: {}\".format(dist1)"
   ]
  },
  {
   "cell_type": "code",
   "execution_count": null,
   "metadata": {
    "collapsed": false
   },
   "outputs": [],
   "source": [
    "dist1"
   ]
  },
  {
   "cell_type": "code",
   "execution_count": null,
   "metadata": {
    "collapsed": false,
    "scrolled": true
   },
   "outputs": [],
   "source": [
    "list[0]"
   ]
  },
  {
   "cell_type": "code",
   "execution_count": null,
   "metadata": {
    "collapsed": false
   },
   "outputs": [],
   "source": [
    "# dist2 = [euclidean(xy[1], cm) for cm in cluster_means]\n",
    "# print \"Euclidean distance: {}\".format(dist)"
   ]
  },
  {
   "cell_type": "code",
   "execution_count": null,
   "metadata": {
    "collapsed": false
   },
   "outputs": [],
   "source": [
    "# dist2 = [euclidean(xy[2], cm) for cm in cluster_means]\n",
    "# print \"Euclidean distance: {}\".format(dist)"
   ]
  },
  {
   "cell_type": "code",
   "execution_count": null,
   "metadata": {
    "collapsed": false
   },
   "outputs": [],
   "source": [
    "# dist3 = [euclidean(xy[3], cm) for cm in cluster_means]\n",
    "# print \"Euclidean distance: {}\".format(dist)"
   ]
  },
  {
   "cell_type": "code",
   "execution_count": null,
   "metadata": {
    "collapsed": false
   },
   "outputs": [],
   "source": [
    "# dist4 = [euclidean(xy[4], cm) for cm in cluster_means]\n",
    "# print \"Euclidean distance: {}\".format(dist)"
   ]
  },
  {
   "cell_type": "code",
   "execution_count": null,
   "metadata": {
    "collapsed": true
   },
   "outputs": [],
   "source": [
    "# db = DBSCAN(eps=0.2, min_samples=5).fit(X)\n",
    "\n",
    "# # shamelessly copied code below ;)\n",
    "# labels = db.labels_\n",
    "# clusters = len(set(labels))\n",
    "# unique_labels = set(labels)\n",
    "# colors = plt.cm.Spectral(np.linspace(0, 1, len(unique_labels)))\n",
    " \n",
    "# plt.subplots(figsize=(12,8))\n",
    " \n",
    "# for k, c in zip(unique_labels, colors):\n",
    "#     class_member_mask = (labels == k)\n",
    "#     xy = X[class_member_mask]\n",
    "#     plt.plot(xy[:, 0], xy[:, 1], 'o', markerfacecolor=c,\n",
    "#             markeredgecolor='k', markersize=14)\n",
    " \n",
    "# plt.title(\"Total Clusters: {}\".format(clusters), fontsize=14,\n",
    "#         y=1.01)"
   ]
  },
  {
   "cell_type": "code",
   "execution_count": null,
   "metadata": {
    "collapsed": false
   },
   "outputs": [],
   "source": [
    "cluster_means"
   ]
  },
  {
   "cell_type": "code",
   "execution_count": null,
   "metadata": {
    "collapsed": false,
    "scrolled": true
   },
   "outputs": [],
   "source": [
    "class_member_mask"
   ]
  },
  {
   "cell_type": "code",
   "execution_count": null,
   "metadata": {
    "collapsed": false
   },
   "outputs": [],
   "source": [
    "import numpy as np\n",
    "\n",
    "from sklearn.cluster import DBSCAN\n",
    "from sklearn import metrics\n",
    "from sklearn.datasets.samples_generator import make_blobs\n",
    "from sklearn.preprocessing import StandardScaler"
   ]
  },
  {
   "cell_type": "code",
   "execution_count": null,
   "metadata": {
    "collapsed": false
   },
   "outputs": [],
   "source": [
    "# X_std = (X - X.min(axis=0)) / (X.max(axis=0) - X.min(axis=0))\n",
    "# X_scaled = X_std * (max - min) + min"
   ]
  },
  {
   "cell_type": "code",
   "execution_count": null,
   "metadata": {
    "collapsed": false
   },
   "outputs": [],
   "source": [
    "print cluster_means\n"
   ]
  },
  {
   "cell_type": "code",
   "execution_count": null,
   "metadata": {
    "collapsed": true
   },
   "outputs": [],
   "source": [
    "# let's create some helper functions\n",
    "def calculate_cluster_means(X, labels):\n",
    "    lbls = np.unique(labels)\n",
    "    print \"Cluster labels: {}\".format(np.unique(lbls))\n",
    "\n",
    "    cluster_means = [np.mean(X[labels==num, :], axis=0) for num in range(lbls[-1] + 1)]\n",
    "    print \"Cluster Means: {}\".format(cluster_means)\n",
    "    return cluster_means\n",
    "    \n",
    "def print_3_distances(noise_point, cluster_means):\n",
    "    # euclidean\n",
    "    dist = [euclidean(noise_point, cm) for cm in cluster_means]\n",
    "    print \"Euclidean distance: {}\".format(dist)\n",
    "\n",
    "#     # chebyshev\n",
    "#     dist = [chebyshev(noise_point, cm) for cm in cluster_means]\n",
    "#     print \"Chebysev distance: {}\".format(dist)\n",
    "\n",
    "#     # cityblock\n",
    "#     dist = [cityblock(noise_point, cm) for cm in cluster_means]\n",
    "#     print \"Cityblock (Manhattan) distance: {}\".format(dist)\n",
    "    \n",
    "def plot_the_clusters(X, dbscan_model, noise_point=None):\n",
    "    labels = dbscan_model.labels_\n",
    "    clusters = len(set(labels))\n",
    "    unique_labels = set(labels)\n",
    "    colors = plt.cm.Spectral(np.linspace(0, 1, len(unique_labels)))\n",
    "\n",
    "    plt.subplots(figsize=(12,8))\n",
    "\n",
    "    for k, c in zip(unique_labels, colors):\n",
    "        class_member_mask = (labels == k)\n",
    "        xy = X[class_member_mask]\n",
    "        plt.plot(xy[:, 0], xy[:, 1], 'o', markerfacecolor=c,\n",
    "                markeredgecolor='k', markersize=14)\n",
    "        \n",
    "    if noise_point is not None:\n",
    "        plt.plot(noise_point[0], noise_point[1], 'xr')\n",
    "\n",
    "    plt.title(\"Total Clusters: {}\".format(clusters), fontsize=14, y=1.01)\n",
    "    \n",
    "def do_yo_thang(X, dbscan_model, noise_point):\n",
    "    cluster_means = calculate_cluster_means(X, dbscan_model.labels_)\n",
    "    print_3_distances(noise_point, cluster_means)\n",
    "    plot_the_clusters(X, dbscan_model, noise_point)"
   ]
  },
  {
   "cell_type": "code",
   "execution_count": null,
   "metadata": {
    "collapsed": false
   },
   "outputs": [],
   "source": [
    "calculate_cluster_means(X, labels)"
   ]
  },
  {
   "cell_type": "code",
   "execution_count": null,
   "metadata": {
    "collapsed": false
   },
   "outputs": [],
   "source": [
    "print_3_distances(noise_point, cluster_means)"
   ]
  },
  {
   "cell_type": "code",
   "execution_count": null,
   "metadata": {
    "collapsed": false
   },
   "outputs": [],
   "source": [
    "plot_the_clusters(X, db_ss, noise_point=None)"
   ]
  },
  {
   "cell_type": "code",
   "execution_count": null,
   "metadata": {
    "collapsed": false
   },
   "outputs": [],
   "source": [
    "X_ss = StandardScaler().fit_transform(X)\n",
    "db_ss = DBSCAN(eps=0.4, min_samples=3).fit(X_ss)\n",
    "noise_point = X_ss[30, :]\n",
    "do_yo_thang(X_ss, db_ss, noise_point)"
   ]
  },
  {
   "cell_type": "code",
   "execution_count": null,
   "metadata": {
    "collapsed": true
   },
   "outputs": [],
   "source": [
    "import matplotlib.pyplot as plt\n",
    "import numpy as np\n",
    "import scipy as sp\n",
    "\n",
    "from sklearn.preprocessing import MinMaxScaler, RobustScaler, StandardScaler, MaxAbsScaler\n",
    "from sklearn.cluster import DBSCAN\n",
    "\n",
    "%matplotlib inline"
   ]
  },
  {
   "cell_type": "code",
   "execution_count": null,
   "metadata": {
    "collapsed": false
   },
   "outputs": [],
   "source": [
    "def makeX(prices):\n",
    "    return np.concatenate(df[Prices], axis=1)\n",
    "\n",
    "prices_ss = StandardScaler().fit_transform(noise_point[:, None])\n",
    "prices_rob = RobustScaler().fit_transform(noise_point[:, None])\n",
    "\n",
    "days_mm4 = X_scaled\n",
    "# MinMaxScaler(feature_range=(-4,4)).fit_transform(days[:, None])\n",
    "\n",
    "X_ssmm4 = makeX(prices_rob)\n",
    "db = DBSCAN(eps=0.6, min_samples=5).fit(X_ssmm4)\n",
    "# show with X_ss again\n",
    "\n",
    "noise_point = X_ssmm4[30, :]\n",
    "do_yo_thang(X_ssmm4, db, noise_point)\n",
    "for index, xy in enumerate(zip(days_mm4, prices_ss)):\n",
    "    plt.annotate('{}: ({:0.2f}, {:0.2f})'.format(index, xy[0][0], xy[1][0]), xytext=(xy[0]-0.45, xy[1]-0.15), xy=xy)"
   ]
  },
  {
   "cell_type": "code",
   "execution_count": null,
   "metadata": {
    "collapsed": false
   },
   "outputs": [],
   "source": [
    "D = distance.squareform(distance.pdist(X))\n",
    "S = np.max(D) - D\n",
    "db = DBSCAN(eps=0.5 * np.max(D), min_samples=10).fit(S)"
   ]
  },
  {
   "cell_type": "code",
   "execution_count": null,
   "metadata": {
    "collapsed": true
   },
   "outputs": [],
   "source": []
  },
  {
   "cell_type": "code",
   "execution_count": null,
   "metadata": {
    "collapsed": true
   },
   "outputs": [],
   "source": []
  },
  {
   "cell_type": "code",
   "execution_count": null,
   "metadata": {
    "collapsed": true
   },
   "outputs": [],
   "source": []
  },
  {
   "cell_type": "code",
   "execution_count": null,
   "metadata": {
    "collapsed": false
   },
   "outputs": [],
   "source": [
    "# db = DBSCAN(eps=0.2, min_samples=5).fit(X)\n",
    "# core_samples = db.core_sample_indices_\n",
    "# labels = db.labels_\n",
    "# n_clusters_ = len(set(labels)) - (1 if -1 in labels else 0)\n",
    "# print n_clusters_\n"
   ]
  },
  {
   "cell_type": "code",
   "execution_count": null,
   "metadata": {
    "collapsed": true
   },
   "outputs": [],
   "source": [
    "clusters = [X[labels == i] for i in xrange(n_clusters_)]"
   ]
  },
  {
   "cell_type": "code",
   "execution_count": null,
   "metadata": {
    "collapsed": true
   },
   "outputs": [],
   "source": [
    "clusters"
   ]
  },
  {
   "cell_type": "code",
   "execution_count": null,
   "metadata": {
    "collapsed": true
   },
   "outputs": [],
   "source": [
    "outliers = X[labels == -1]"
   ]
  },
  {
   "cell_type": "code",
   "execution_count": null,
   "metadata": {
    "collapsed": true
   },
   "outputs": [],
   "source": [
    "outliers"
   ]
  },
  {
   "cell_type": "code",
   "execution_count": null,
   "metadata": {
    "collapsed": true
   },
   "outputs": [],
   "source": []
  }
 ],
 "metadata": {
  "anaconda-cloud": {},
  "kernelspec": {
   "display_name": "Python [conda root]",
   "language": "python",
   "name": "conda-root-py"
  },
  "language_info": {
   "codemirror_mode": {
    "name": "ipython",
    "version": 2
   },
   "file_extension": ".py",
   "mimetype": "text/x-python",
   "name": "python",
   "nbconvert_exporter": "python",
   "pygments_lexer": "ipython2",
   "version": "2.7.12"
  }
 },
 "nbformat": 4,
 "nbformat_minor": 1
}
